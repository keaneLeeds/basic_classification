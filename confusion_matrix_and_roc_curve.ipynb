{
 "cells": [
  {
   "cell_type": "markdown",
   "source": [
    "# NAME OF PRESENTATION"
   ],
   "metadata": {
    "collapsed": false
   }
  },
  {
   "cell_type": "markdown",
   "source": [
    "## The Confusion Matrix\n",
    "\n",
    "The confusion matrix is a table layout that makes it easier to visualize the performance of a machine learning algorithm's classification ability.\n",
    "\n",
    "[Error Types](https://imgs.xkcd.com/comics/error_types.png)\n",
    "\n",
    "[Garbage Math](https://imgs.xkcd.com/comics/garbage_math.png)\n",
    "\n",
    "\n",
    "${\\large Recall} = \\frac{TP}{TP + FN} = \\frac{is🦘}{is🦘 + isn't🏭}$\n",
    "\n",
    "${\\large Precision} = \\frac{TP}{TP + FP} = \\frac{is🦘}{is🦘 + isn't🦘}$\n",
    "\n",
    "${\\large Accuracy} = \\frac{TP + TN}{TP + TN + FP + FN} = \\frac{is🦘 + is🏭}{all🦘 + all🏭} = \\frac{True}{Total}$\n",
    "\n",
    "$\\begin{aligned}\n",
    "&{\\large Confusion Matrix} \\\\\n",
    "&\\begin{array}{|c|c|c|}\n",
    "\\hline\n",
    "& Actual Positive & Actual Negative\\\\\n",
    "\\hline\n",
    "Pred. Positive & TP & FP \\\\\n",
    "\\hline\n",
    "Pred. Negative & FN & TN \\\\\n",
    "\\hline\n",
    "\\end{array}\n",
    "&{\\large Also Confusion Matrix} \\\\\n",
    "&\\begin{array}{|c|c|c|}\n",
    "\\hline\n",
    " & Actual 🦘 & Actual 🏭\\\\\n",
    "\\hline\n",
    "Pred. 🦘 & is🦘 & isn't🦘 \\\\\n",
    "\\hline\n",
    "Pred. 🏭 & isn't🏭 & is🏭 \\\\\n",
    "\\hline\n",
    "\\end{array}\n",
    "\\end{aligned}$"
   ],
   "metadata": {
    "collapsed": false
   }
  },
  {
   "cell_type": "markdown",
   "source": [
    "Fill in values for the True Positive (TP), False Positive (FP), True Negative (TN), and False Negative (FN), and then run the cell (Shift+Enter).\n"
   ],
   "metadata": {
    "collapsed": false,
    "pycharm": {
     "name": "#%% md\n"
    }
   }
  },
  {
   "cell_type": "code",
   "execution_count": 8,
   "outputs": [],
   "source": [
    "True_Positive = TP = 1\n",
    "False_Positive = FP = 2\n",
    "True_Negative = TN = 3\n",
    "False_Negative = FN = 7\n",
    "\n",
    "\n",
    "from IPython.display import display, Latex\n",
    "\n",
    "Total=sum([TP, FP, TN, FN])\n",
    "recall=TP/(TP+FN)\n",
    "precision=TP/(TP+FP)\n",
    "accuracy=(TP+TN)/Total\n",
    "\n",
    "display(Latex(rf'$\\begin{{array}}{{|c|c|c|}} \\hline \\\\ & Actual Positive & Actual Negative \\\\ \\hline \\\\ Pred. Positive & {TP} & {FP} \\\\ \\hline \\\\ Pred. Negative & {FN} & {TN} \\\\ \\hline \\end{{array}}$'))\n",
    "\n",
    "display(Latex(rf'$Recall = \\dfrac{{{TP}}}{{{TP+FN}}} = {recall}$'))\n",
    "\n",
    "display(Latex(rf'$Precision = \\dfrac{{{TP}}}{{{TP+FP}}} = {precision}$'))\n",
    "\n",
    "display(Latex(rf'$Accuracy = \\dfrac{{{TP+TN}}}{{{Total}}} = {accuracy}$'))\n"
   ],
   "metadata": {
    "collapsed": false,
    "pycharm": {
     "name": "#%% py\n"
    }
   }
  },
  {
   "cell_type": "markdown",
   "source": [
    "# ROC AUC\n",
    "\n",
    "A receiver operating characteristic curve (ROC curve), is a graphical plot that illustrates the diagnostic ability of a binary classifier system as it's discrimination threshold is varied.\n",
    "\n",
    "The ROC curve is created by plotting the true positive rate (TPR) against the false positive rate (FPR) at various threshold settings.\n",
    "\n",
    "## FPR & TPR equations\n",
    "$$True Positive Rate = TPR = \\frac{TP}{TP+FN} = \\frac{is🦘}{is🦘 + isn't🏭}$$\n",
    "$$False Positive Rate = FPR = 1 - Specificity = \\frac{FP}{TN+FP} = \\frac{isn't🦘}{is🏭 + isn't🦘}$$\n"
   ],
   "metadata": {
    "collapsed": false
   }
  },
  {
   "cell_type": "code",
   "execution_count": 10,
   "outputs": [
    {
     "data": {
      "text/plain": "<IPython.core.display.Latex object>",
      "text/latex": "$True Positive Rate = \\dfrac18 = 0.125$"
     },
     "metadata": {},
     "output_type": "display_data"
    },
    {
     "data": {
      "text/plain": "<IPython.core.display.Latex object>",
      "text/latex": "$False Positive Rate = \\dfrac25 = 0.4$"
     },
     "metadata": {},
     "output_type": "display_data"
    }
   ],
   "source": [
    "True_Positive_Rate = TPR = TP/(TP+FN)\n",
    "False_Positive_Rate = FPR = FP/(TN+FP)\n",
    "\n",
    "display(Latex(rf'$True Positive Rate = \\dfrac{{{TP}}}{{{TP+FN}}} = {TPR}$'))\n",
    "display(Latex(rf'$False Positive Rate = \\dfrac{{{FP}}}{{{TN+FP}}} = {FPR}$'))\n"
   ],
   "metadata": {
    "collapsed": false,
    "pycharm": {
     "name": "#%% py\n"
    }
   }
  },
  {
   "cell_type": "markdown",
   "source": [
    "Set a threshold value below and run the cell to see the resulting"
   ],
   "metadata": {
    "collapsed": false,
    "pycharm": {
     "name": "#%% md\n"
    }
   }
  },
  {
   "cell_type": "code",
   "execution_count": 7,
   "outputs": [
    {
     "data": {
      "text/plain": "<Figure size 432x288 with 1 Axes>",
      "image/png": "[encoded data removed]"
     },
     "metadata": {
      "needs_background": "light"
     },
     "output_type": "display_data"
    },
    {
     "name": "stdout",
     "output_type": "stream",
     "text": [
      "Threshold values: [1.9 0.9 0.8 0.7 0.6 0.1]\n"
     ]
    }
   ],
   "source": [
    "import numpy as np\n",
    "import matplotlib.pyplot as plt\n",
    "from sklearn.metrics import confusion_matrix, roc_curve, RocCurveDisplay\n",
    "import warnings\n",
    "warnings.simplefilter(action='ignore', category=FutureWarning)\n",
    "\n",
    "y_truth = ['🦘', '🦘', '🦘', '🦘', '🦘', '🏭', '🏭', '🦘', '🏭', '🏭', '🦘']\n",
    "predictions = [ 0.7, 0.6, 0.9, 0.6, 0.7, 0.3, 0.4, 0.8, 0.1, 0.6, 0.7]\n",
    "fpr, tpr, thresholds = roc_curve(y_truth, predictions, pos_label='🦘')\n",
    "display = RocCurveDisplay(fpr, tpr, roc_auc=True)\n",
    "display.plot()\n",
    "plt.show()\n",
    "\n",
    "print(f'Threshold values: {thresholds}')"
   ],
   "metadata": {
    "collapsed": false,
    "pycharm": {
     "name": "#%%\n"
    }
   }
  },
  {
   "cell_type": "markdown",
   "source": [
    "Now set the threshold variable below to different values in the threshold values generated by the roc_curve function above, and run the cell to see how it effects the confusion matrix.\n",
    "\n",
    "The confusion matrix will print like this:\n",
    "```python\n",
    "[[TP, FP]\n",
    " [FN, TN]]\n",
    "```"
   ],
   "metadata": {
    "collapsed": false,
    "pycharm": {
     "name": "#%% md\n"
    }
   }
  },
  {
   "cell_type": "code",
   "execution_count": 6,
   "outputs": [
    {
     "name": "stdout",
     "output_type": "stream",
     "text": [
      "Confusion matrix at threshold value 0.7:\n",
      "\n",
      "[[2 0]\n",
      " [5 4]]\n"
     ]
    }
   ],
   "source": [
    "threshold = 0.7\n",
    "\n",
    "choice = ['🦘' if i > threshold else '🏭' for i in predictions]\n",
    "tn, fp, fn, tp = confusion_matrix(y_truth, choice).ravel()\n",
    "cm = np.asarray([[tp, fp], [fn, tn]])\n",
    "print(f'Confusion matrix at threshold value {threshold}:')\n",
    "print()\n",
    "print(cm)\n"
   ],
   "metadata": {
    "collapsed": false,
    "pycharm": {
     "name": "#%%\n"
    }
   }
  }
 ],
 "metadata": {
  "kernelspec": {
   "display_name": "Python 3",
   "language": "python",
   "name": "python3"
  },
  "language_info": {
   "codemirror_mode": {
    "name": "ipython",
    "version": 2
   },
   "file_extension": ".py",
   "mimetype": "text/x-python",
   "name": "python",
   "nbconvert_exporter": "python",
   "pygments_lexer": "ipython2",
   "version": "2.7.6"
  }
 },
 "nbformat": 4,
 "nbformat_minor": 0
}